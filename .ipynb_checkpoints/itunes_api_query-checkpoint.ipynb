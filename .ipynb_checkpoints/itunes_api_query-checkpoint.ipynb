{
 "cells": [
  {
   "cell_type": "code",
   "execution_count": 3,
   "metadata": {},
   "outputs": [
    {
     "name": "stdout",
     "output_type": "stream",
     "text": [
      "{\n",
      "  \"resultCount\": 1,\n",
      "  \"results\": [\n",
      "    {\n",
      "      \"wrapperType\": \"track\",\n",
      "      \"kind\": \"song\",\n",
      "      \"artistId\": 159260351,\n",
      "      \"collectionId\": 1468058165,\n",
      "      \"trackId\": 1468058704,\n",
      "      \"artistName\": \"Taylor Swift\",\n",
      "      \"collectionName\": \"Lover\",\n",
      "      \"trackName\": \"You Need To Calm Down\",\n",
      "      \"collectionCensoredName\": \"Lover\",\n",
      "      \"trackCensoredName\": \"You Need To Calm Down\",\n",
      "      \"artistViewUrl\": \"https://music.apple.com/us/artist/taylor-swift/159260351?uo=4\",\n",
      "      \"collectionViewUrl\": \"https://music.apple.com/us/album/you-need-to-calm-down/1468058165?i=1468058704&uo=4\",\n",
      "      \"trackViewUrl\": \"https://music.apple.com/us/album/you-need-to-calm-down/1468058165?i=1468058704&uo=4\",\n",
      "      \"previewUrl\": \"https://audio-ssl.itunes.apple.com/itunes-assets/AudioPreview123/v4/27/0e/fd/270efd5d-bbd9-dadd-a0f1-b932578a120a/mzaf_12422943688508050575.plus.aac.p.m4a\",\n",
      "      \"artworkUrl30\": \"https://is5-ssl.mzstatic.com/image/thumb/Music123/v4/80/68/41/806841e5-b223-ec85-0c3d-004d1e48e7b0/source/30x30bb.jpg\",\n",
      "      \"artworkUrl60\": \"https://is5-ssl.mzstatic.com/image/thumb/Music123/v4/80/68/41/806841e5-b223-ec85-0c3d-004d1e48e7b0/source/60x60bb.jpg\",\n",
      "      \"artworkUrl100\": \"https://is5-ssl.mzstatic.com/image/thumb/Music123/v4/80/68/41/806841e5-b223-ec85-0c3d-004d1e48e7b0/source/100x100bb.jpg\",\n",
      "      \"collectionPrice\": 11.99,\n",
      "      \"trackPrice\": 1.29,\n",
      "      \"releaseDate\": \"2019-06-14T07:00:00Z\",\n",
      "      \"collectionExplicitness\": \"notExplicit\",\n",
      "      \"trackExplicitness\": \"notExplicit\",\n",
      "      \"discCount\": 1,\n",
      "      \"discNumber\": 1,\n",
      "      \"trackCount\": 18,\n",
      "      \"trackNumber\": 14,\n",
      "      \"trackTimeMillis\": 171352,\n",
      "      \"country\": \"USA\",\n",
      "      \"currency\": \"USD\",\n",
      "      \"primaryGenreName\": \"Pop\",\n",
      "      \"isStreamable\": true\n",
      "    }\n",
      "  ]\n",
      "}\n"
     ]
    }
   ],
   "source": [
    ">>> import requests\n",
    ">>> import json\n",
    ">>> a = 'https://itunes.apple.com/search?term=taylor+swift&limit=1'\n",
    ">>> b = requests.get(a).json()\n",
    ">>> print(json.dumps(b, indent=2))\n"
   ]
  },
  {
   "cell_type": "code",
   "execution_count": null,
   "metadata": {},
   "outputs": [],
   "source": []
  }
 ],
 "metadata": {
  "kernelspec": {
   "display_name": "Conda [PythonData]",
   "language": "python",
   "name": "pythondata"
  },
  "language_info": {
   "codemirror_mode": {
    "name": "ipython",
    "version": 3
   },
   "file_extension": ".py",
   "mimetype": "text/x-python",
   "name": "python",
   "nbconvert_exporter": "python",
   "pygments_lexer": "ipython3",
   "version": "3.6.8"
  }
 },
 "nbformat": 4,
 "nbformat_minor": 2
}
